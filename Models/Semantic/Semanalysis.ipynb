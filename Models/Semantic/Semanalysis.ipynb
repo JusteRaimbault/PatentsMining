{
 "cells": [
  {
   "cell_type": "code",
   "execution_count": 9,
   "metadata": {
    "collapsed": true
   },
   "outputs": [],
   "source": [
    "library(Matrix)"
   ]
  },
  {
   "cell_type": "code",
   "execution_count": 1,
   "metadata": {
    "collapsed": true
   },
   "outputs": [],
   "source": [
    "years = 1980:2012\n",
    "windowSize=5\n",
    "\n",
    "source('semanalfun.R')\n"
   ]
  },
  {
   "cell_type": "code",
   "execution_count": 7,
   "metadata": {
    "collapsed": false
   },
   "outputs": [
    {
     "data": {
      "text/html": [
       "<ol class=list-inline>\n",
       "\t<li>'currentprobas'</li>\n",
       "\t<li>'cyears'</li>\n",
       "\t<li>'loadProbas'</li>\n",
       "\t<li>'loadSemantic'</li>\n",
       "\t<li>'origs'</li>\n",
       "\t<li>'q'</li>\n",
       "\t<li>'quit'</li>\n",
       "\t<li>'semprobas'</li>\n",
       "\t<li>'semsuffix'</li>\n",
       "\t<li>'technoMatrix'</li>\n",
       "\t<li>'technoprefix'</li>\n",
       "\t<li>'technoprobas'</li>\n",
       "\t<li>'types'</li>\n",
       "\t<li>'windowSize'</li>\n",
       "\t<li>'year'</li>\n",
       "\t<li>'years'</li>\n",
       "</ol>\n"
      ],
      "text/latex": [
       "\\begin{enumerate*}\n",
       "\\item 'currentprobas'\n",
       "\\item 'cyears'\n",
       "\\item 'loadProbas'\n",
       "\\item 'loadSemantic'\n",
       "\\item 'origs'\n",
       "\\item 'q'\n",
       "\\item 'quit'\n",
       "\\item 'semprobas'\n",
       "\\item 'semsuffix'\n",
       "\\item 'technoMatrix'\n",
       "\\item 'technoprefix'\n",
       "\\item 'technoprobas'\n",
       "\\item 'types'\n",
       "\\item 'windowSize'\n",
       "\\item 'year'\n",
       "\\item 'years'\n",
       "\\end{enumerate*}\n"
      ],
      "text/markdown": [
       "1. 'currentprobas'\n",
       "2. 'cyears'\n",
       "3. 'loadProbas'\n",
       "4. 'loadSemantic'\n",
       "5. 'origs'\n",
       "6. 'q'\n",
       "7. 'quit'\n",
       "8. 'semprobas'\n",
       "9. 'semsuffix'\n",
       "10. 'technoMatrix'\n",
       "11. 'technoprefix'\n",
       "12. 'technoprobas'\n",
       "13. 'types'\n",
       "14. 'windowSize'\n",
       "15. 'year'\n",
       "16. 'years'\n",
       "\n",
       "\n"
      ],
      "text/plain": [
       " [1] \"currentprobas\" \"cyears\"        \"loadProbas\"    \"loadSemantic\" \n",
       " [5] \"origs\"         \"q\"             \"quit\"          \"semprobas\"    \n",
       " [9] \"semsuffix\"     \"technoMatrix\"  \"technoprefix\"  \"technoprobas\" \n",
       "[13] \"types\"         \"windowSize\"    \"year\"          \"years\"        "
      ]
     },
     "metadata": {},
     "output_type": "display_data"
    }
   ],
   "source": [
    "ls()"
   ]
  },
  {
   "cell_type": "code",
   "execution_count": 11,
   "metadata": {
    "collapsed": false
   },
   "outputs": [],
   "source": [
    "year=2004\n",
    "load(paste0('probas_processed/processed_',year,'.RData'))"
   ]
  },
  {
   "cell_type": "code",
   "execution_count": null,
   "metadata": {
    "collapsed": false
   },
   "outputs": [],
   "source": [
    "currentprobas$semprobas"
   ]
  },
  {
   "cell_type": "code",
   "execution_count": null,
   "metadata": {
    "collapsed": true
   },
   "outputs": [],
   "source": [
    "1 - rowSums(currentprobas$semprobas^2)"
   ]
  },
  {
   "cell_type": "markdown",
   "metadata": {},
   "source": [
    "### Patent Level Interdisciplinarity"
   ]
  },
  {
   "cell_type": "code",
   "execution_count": null,
   "metadata": {
    "collapsed": true
   },
   "outputs": [],
   "source": [
    "\n",
    "origs=c();cyears=c();types=c();\n",
    "for(year in years){\n",
    "  show(year)\n",
    "  load(paste0('probas_processed/processed_',year,'.RData'))\n",
    "  technoprobas=currentprobas$technoprobas;semprobas=currentprobas$semprobas;#rm(currentprobas);gc()\n",
    "  origs = append(origs,1 - rowSums(semprobas^2));types=append(types,rep(\"semantic\",nrow(semprobas)))\n",
    "  origs = append(origs,1 - rowSums(technoprobas^2));types=append(types,rep(\"techno\",nrow(technoprobas)))\n",
    "  cyears=append(cyears,rep(year,nrow(semprobas)+nrow(technoprobas)))\n",
    "}\n"
   ]
  },
  {
   "cell_type": "code",
   "execution_count": null,
   "metadata": {
    "collapsed": true
   },
   "outputs": [],
   "source": []
  },
  {
   "cell_type": "code",
   "execution_count": null,
   "metadata": {
    "collapsed": true
   },
   "outputs": [],
   "source": [
    "inds=types==\"techno\"&origs<1\n",
    "df = data.frame(originality=origs[inds],year=as.character(cyears[inds]),type=types[inds])\n",
    "g=ggplot(df)\n",
    "g+geom_density(aes(x=originality,colour=year))\n",
    "\n",
    "# semantic patent origs\n",
    "inds=types==\"semantic\"&origs<1\n",
    "df = data.frame(originality=origs[inds],year=as.character(cyears[inds]),type=types[inds])\n",
    "g=ggplot(df)\n",
    "g+geom_density(aes(x=originality,colour=year))+scale_y_log10()\n"
   ]
  }
 ],
 "metadata": {
  "anaconda-cloud": {},
  "kernelspec": {
   "display_name": "R",
   "language": "R",
   "name": "ir"
  },
  "language_info": {
   "codemirror_mode": "r",
   "file_extension": ".r",
   "mimetype": "text/x-r-source",
   "name": "R",
   "pygments_lexer": "r",
   "version": "3.3.1"
  }
 },
 "nbformat": 4,
 "nbformat_minor": 0
}
